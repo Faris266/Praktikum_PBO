{
  "nbformat": 4,
  "nbformat_minor": 0,
  "metadata": {
    "colab": {
      "provenance": [],
      "authorship_tag": "ABX9TyPt61u04DLwb+YA5dLWWB6y",
      "include_colab_link": true
    },
    "kernelspec": {
      "name": "python3",
      "display_name": "Python 3"
    },
    "language_info": {
      "name": "python"
    }
  },
  "cells": [
    {
      "cell_type": "markdown",
      "metadata": {
        "id": "view-in-github",
        "colab_type": "text"
      },
      "source": [
        "<a href=\"https://colab.research.google.com/github/Faris266/Praktikum_PBO/blob/main/pewarisan2.ipynb\" target=\"_parent\"><img src=\"https://colab.research.google.com/assets/colab-badge.svg\" alt=\"Open In Colab\"/></a>"
      ]
    },
    {
      "cell_type": "code",
      "execution_count": 2,
      "metadata": {
        "colab": {
          "base_uri": "https://localhost:8080/"
        },
        "id": "ZxeWaQvPbYoG",
        "outputId": "fdfaa716-67f7-4ec9-ce2e-b077799f3ba6"
      },
      "outputs": [
        {
          "output_type": "stream",
          "name": "stdout",
          "text": [
            "{'brand': 'BMW', 'model': 'S series', 'year': 2024, 'number_of_doors': 4, 'number_of_wheels': 4}\n",
            "{'brand': 'honda', 'model': 'scoopy', 'year': 2018, 'number_of_wheels': 2}\n",
            "vehicle is starting\n",
            "vehicle is starting\n"
          ]
        }
      ],
      "source": [
        "#make class vehicle\n",
        "class Vehicle:\n",
        "  def __init__(self, brand, model, year):\n",
        "    self.brand = brand\n",
        "    self.model = model\n",
        "    self.year = year\n",
        "\n",
        "#make methods\n",
        "  def start(self):\n",
        "    print(\"vehicle is starting\")\n",
        "  def stop(self):\n",
        "    print(\"vehicle is stopping\")\n",
        "\n",
        "class Car(Vehicle):\n",
        "  def __init__(self, brand, model, year, number_of_doors, number_of_wheels):\n",
        "    super().__init__(brand, model, year)\n",
        "    self.number_of_doors = number_of_doors\n",
        "    self.number_of_wheels = number_of_wheels\n",
        "\n",
        "class Bike(Vehicle):\n",
        "  def __init__(self, brand, model, year, number_of_wheels):\n",
        "    super().__init__(brand, model, year)\n",
        "    self.number_of_wheels = number_of_wheels\n",
        "\n",
        "#make object\n",
        "car = Car(\"BMW\", \"S series\", 2024, 4, 4)\n",
        "bike = Bike(\"honda\", \"scoopy\", 2018, 2)\n",
        "\n",
        "#print atribute and method\n",
        "print(car.__dict__)\n",
        "print(bike.__dict__)\n",
        "car.start()\n",
        "bike.start()\n"
      ]
    }
  ]
}