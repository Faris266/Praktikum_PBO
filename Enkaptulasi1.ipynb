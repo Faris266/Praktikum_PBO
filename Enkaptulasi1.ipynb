{
  "nbformat": 4,
  "nbformat_minor": 0,
  "metadata": {
    "colab": {
      "provenance": [],
      "authorship_tag": "ABX9TyOlxONm/hBa4//2OLoHAq/4",
      "include_colab_link": true
    },
    "kernelspec": {
      "name": "python3",
      "display_name": "Python 3"
    },
    "language_info": {
      "name": "python"
    }
  },
  "cells": [
    {
      "cell_type": "markdown",
      "metadata": {
        "id": "view-in-github",
        "colab_type": "text"
      },
      "source": [
        "<a href=\"https://colab.research.google.com/github/Faris266/Praktikum_PBO/blob/main/Enkaptulasi1.ipynb\" target=\"_parent\"><img src=\"https://colab.research.google.com/assets/colab-badge.svg\" alt=\"Open In Colab\"/></a>"
      ]
    },
    {
      "cell_type": "code",
      "execution_count": 1,
      "metadata": {
        "id": "UcL2ccEHisrW",
        "colab": {
          "base_uri": "https://localhost:8080/"
        },
        "outputId": "69b3e0d2-cac8-4fd3-bec3-8827d3d33330"
      },
      "outputs": [
        {
          "output_type": "stream",
          "name": "stdout",
          "text": [
            "800.0\n",
            "gaji final = 5000\n"
          ]
        }
      ],
      "source": [
        "class pegawai:\n",
        "  def __init__(self, nama, salary):\n",
        "    self.nama = nama\n",
        "    self.gaji = salary\n",
        "    self.gaji_final = self.gaji - (0.2*self.gaji)\n",
        "\n",
        "obj1 = pegawai(\"BUdi\", 1000)\n",
        "print(obj1.gaji_final)\n",
        "\n",
        "obj1.gaji_final = 5000\n",
        "print(f\"gaji final = {obj1.gaji_final}\")\n"
      ]
    }
  ]
}