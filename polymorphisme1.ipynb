{
  "nbformat": 4,
  "nbformat_minor": 0,
  "metadata": {
    "colab": {
      "provenance": [],
      "authorship_tag": "ABX9TyM5rBXkv8aZH9obgjAwDNRn",
      "include_colab_link": true
    },
    "kernelspec": {
      "name": "python3",
      "display_name": "Python 3"
    },
    "language_info": {
      "name": "python"
    }
  },
  "cells": [
    {
      "cell_type": "markdown",
      "metadata": {
        "id": "view-in-github",
        "colab_type": "text"
      },
      "source": [
        "<a href=\"https://colab.research.google.com/github/Faris266/Praktikum_PBO/blob/main/polymorphisme1.ipynb\" target=\"_parent\"><img src=\"https://colab.research.google.com/assets/colab-badge.svg\" alt=\"Open In Colab\"/></a>"
      ]
    },
    {
      "cell_type": "code",
      "execution_count": 2,
      "metadata": {
        "colab": {
          "base_uri": "https://localhost:8080/"
        },
        "id": "7HqPt19JfOFB",
        "outputId": "46473bbb-4b57-41cd-d3e3-f6d16985c5f0"
      },
      "outputs": [
        {
          "output_type": "stream",
          "name": "stdout",
          "text": [
            "Area: 24\n",
            "Area: 254.34\n"
          ]
        }
      ],
      "source": [
        "class Shape:\n",
        "  def area(self):\n",
        "    return \"unfined\"\n",
        "\n",
        "class Rectangle(Shape):\n",
        "  def __init__(self, length, width):\n",
        "    self.length = length\n",
        "    self.width = width\n",
        "\n",
        "  def area(self):\n",
        "    return self.length * self.width\n",
        "\n",
        "class Circle(Shape):\n",
        "  def __init__(self, radius):\n",
        "    self.radius = radius\n",
        "\n",
        "  def area(self):\n",
        "    return 3.14 * self.radius ** 2\n",
        "\n",
        "shapes = [Rectangle(4, 6), Circle(9)]\n",
        "\n",
        "for shape in shapes:\n",
        "  print(f\"Area: {shape.area()}\")"
      ]
    }
  ]
}